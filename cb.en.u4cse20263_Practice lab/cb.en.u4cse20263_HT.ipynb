{
  "cells": [
    {
      "attachments": {},
      "cell_type": "markdown",
      "metadata": {
        "id": "ek8Gpj16sY7D"
      },
      "source": [
        "Most recent data shows that the average length of a spotify song is 3.7 minutes, considering all spotify categories with a standard deviation of 4 minutes. A random sample of 100 spotify songs belonging to different categories were taken and the average song length of the sampled songs was found to be 3 minutes. Are songs now shorter than they were before? Conduct a hypothesis test to evaluate the null and alternative hypothesis. Take significance level α = 0.05."
      ]
    },
    {
      "attachments": {},
      "cell_type": "markdown",
      "metadata": {
        "id": "6TTTv663wzv3"
      },
      "source": [
        "Null Hypothesis: Average length of spotify songs is more than or equal to 3.7 minutes.\n",
        "Alternative Hypothesis: Average length of spotify songs is less than 3.7 minutes. <br>\n",
        "A lower-tailed test should be conducted as part of the hypothesis test."
      ]
    },
    {
      "cell_type": "code",
      "execution_count": 4,
      "metadata": {
        "id": "dQLCZz4qxnN5"
      },
      "outputs": [],
      "source": [
        "import scipy.stats as st\n",
        "import numpy as np"
      ]
    },
    {
      "cell_type": "code",
      "execution_count": 1,
      "metadata": {
        "id": "nMCRwUFOea24"
      },
      "outputs": [],
      "source": [
        "mu = 3.7\n",
        "x_bar = 3\n",
        "sigma = 4\n",
        "n = 100\n",
        "alpha = 0.05"
      ]
    },
    {
      "cell_type": "code",
      "execution_count": 3,
      "metadata": {
        "colab": {
          "base_uri": "https://localhost:8080/"
        },
        "id": "Ido232kmxfXz",
        "outputId": "c51d3152-7bd7-4264-b68c-41e9ee1818cc"
      },
      "outputs": [
        {
          "name": "stdout",
          "output_type": "stream",
          "text": [
            "z-critical value is -1.6448536269514729\n"
          ]
        }
      ],
      "source": [
        "# Calculating z critical value\n",
        "z_critical = st.norm.ppf(alpha)\n",
        "print(f'z-critical value is {z_critical}')"
      ]
    },
    {
      "cell_type": "code",
      "execution_count": 5,
      "metadata": {
        "colab": {
          "base_uri": "https://localhost:8080/"
        },
        "id": "hL49UW-dyI7D",
        "outputId": "cbce0729-a559-445b-debd-2decf9a4680d"
      },
      "outputs": [
        {
          "name": "stdout",
          "output_type": "stream",
          "text": [
            "Test statistic is -1.923076923076923\n"
          ]
        }
      ],
      "source": [
        "# Test statistic calculation\n",
        "z = (x_bar - mu)/(sigma/np.sqrt(n))\n",
        "print(f'Test statistic is {z}')"
      ]
    },
    {
      "cell_type": "code",
      "execution_count": 6,
      "metadata": {
        "colab": {
          "base_uri": "https://localhost:8080/"
        },
        "id": "R12lXbEUy-at",
        "outputId": "ad3e1288-3796-4615-a486-24a4d092b362"
      },
      "outputs": [
        {
          "name": "stdout",
          "output_type": "stream",
          "text": [
            "Reject the null hypothesis.\n"
          ]
        }
      ],
      "source": [
        "if z < z_critical:\n",
        "  print(\"Reject the null hypothesis.\")\n",
        "else:\n",
        "  print(\"Fail to reject the null hypothesis.\")"
      ]
    },
    {
      "attachments": {},
      "cell_type": "markdown",
      "metadata": {
        "id": "RdOf5glazWEz"
      },
      "source": [
        "The calculated z-score value is in the critical region and so we reject the null hypothesis that the average song length on spotify is greater than or equal to 3.7 minutes. "
      ]
    }
  ],
  "metadata": {
    "colab": {
      "provenance": []
    },
    "kernelspec": {
      "display_name": "Python 3",
      "name": "python3"
    },
    "language_info": {
      "name": "python"
    }
  },
  "nbformat": 4,
  "nbformat_minor": 0
}
