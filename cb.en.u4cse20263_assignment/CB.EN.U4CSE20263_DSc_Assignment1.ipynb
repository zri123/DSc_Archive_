{
  "cells": [
    {
      "cell_type": "code",
      "execution_count": null,
      "metadata": {
        "colab": {
          "base_uri": "https://localhost:8080/"
        },
        "id": "GSCkR6Dne_lQ",
        "outputId": "82a7f5cc-f338-4e09-fcba-66b4196ad8b6"
      },
      "outputs": [
        {
          "name": "stdout",
          "output_type": "stream",
          "text": [
            "('aman', 777, 400.4, '222')\n"
          ]
        }
      ],
      "source": [
        "ss={\"aman\", \"222\", 777, 400.4}\n",
        "t=tuple(ss)\n",
        "print(t)"
      ]
    },
    {
      "cell_type": "code",
      "execution_count": 1,
      "metadata": {
        "colab": {
          "base_uri": "https://localhost:8080/"
        },
        "id": "A26n545-frl3",
        "outputId": "6128ba47-bc8b-4f75-da37-9be53285ab99"
      },
      "outputs": [
        {
          "name": "stdout",
          "output_type": "stream",
          "text": [
            "{'roll no': 'cse20263', 'firstname': 'Srinath', 'lastname': 'Palaniappan', 'dob': '22-01-2003'}\n"
          ]
        }
      ],
      "source": [
        "ss={\"roll no\" : \"cse20263\",\n",
        "    \"firstname\": \"Srinath\",\n",
        "    \"lastname\": \"Palaniappan\",\n",
        "    \"dob\": \"22-01-2003\"}\n",
        "print(ss)"
      ]
    },
    {
      "cell_type": "code",
      "execution_count": null,
      "metadata": {
        "colab": {
          "base_uri": "https://localhost:8080/"
        },
        "id": "94SronFyK0TY",
        "outputId": "d13436b9-61f8-4e84-cdbd-0d45e36764ac"
      },
      "outputs": [
        {
          "name": "stdout",
          "output_type": "stream",
          "text": [
            "[[ 3 14 15]\n",
            " [ 6 16  9]]\n"
          ]
        }
      ],
      "source": [
        "import numpy as np\n",
        "from numpy import random\n",
        "np.random.seed(5)\n",
        "x=random.randint(20,size=(2,3))\n",
        "print(x)\n"
      ]
    },
    {
      "cell_type": "code",
      "execution_count": null,
      "metadata": {
        "colab": {
          "base_uri": "https://localhost:8080/"
        },
        "id": "McpVaC916J_7",
        "outputId": "b15db266-c362-4575-dc04-d19e08b0291d"
      },
      "outputs": [
        {
          "name": "stdout",
          "output_type": "stream",
          "text": [
            "0.5171785568557263\n"
          ]
        }
      ],
      "source": [
        "import random\n",
        "print(random.uniform(0.0, 1.0))\n"
      ]
    },
    {
      "cell_type": "code",
      "execution_count": null,
      "metadata": {
        "colab": {
          "base_uri": "https://localhost:8080/"
        },
        "id": "wuHAAULz6d54",
        "outputId": "6366a0db-a434-48a2-c807-541887c60148"
      },
      "outputs": [
        {
          "name": "stdout",
          "output_type": "stream",
          "text": [
            "58\n"
          ]
        }
      ],
      "source": [
        "t = random.randint(20,90)\n",
        "print(t)"
      ]
    },
    {
      "cell_type": "code",
      "execution_count": null,
      "metadata": {
        "colab": {
          "base_uri": "https://localhost:8080/"
        },
        "id": "CewG3-xtLrl3",
        "outputId": "3fe780bb-2099-4751-cdaa-5634c6358803"
      },
      "outputs": [
        {
          "name": "stdout",
          "output_type": "stream",
          "text": [
            "[12, 15, 13, 11, 14]\n",
            "15\n",
            "[15, 11, 14]\n"
          ]
        }
      ],
      "source": [
        "pop = [11,12,13,14,15]\n",
        "np.random.shuffle(pop)\n",
        "print(pop)\n",
        "print(pop[random.randint(0,5)])\n",
        "temp=[pop.pop(random.randint(0,5)),pop.pop(random.randint(0,4)),pop.pop(random.randint(0,3))]\n",
        "print(temp)"
      ]
    },
    {
      "cell_type": "code",
      "execution_count": null,
      "metadata": {
        "colab": {
          "base_uri": "https://localhost:8080/"
        },
        "id": "6PootwzELtD4",
        "outputId": "15622565-b3a1-4ec5-855f-bbd212f45363"
      },
      "outputs": [
        {
          "name": "stdout",
          "output_type": "stream",
          "text": [
            "The King is Dead, Long Live The King "
          ]
        }
      ],
      "source": [
        "f = open('test.txt','w')\n",
        "f.write('The King is Dead, Long Live The King')\n",
        "f.close()\n",
        "f = open('test.txt','r')\n",
        "for i in f:\n",
        "  print(i,end=\" \")\n",
        "f.close()"
      ]
    },
    {
      "cell_type": "code",
      "execution_count": null,
      "metadata": {
        "colab": {
          "base_uri": "https://localhost:8080/"
        },
        "id": "_SPmXYHgiSjC",
        "outputId": "064cbde2-99e0-48db-a517-32ffa208421d"
      },
      "outputs": [
        {
          "name": "stdout",
          "output_type": "stream",
          "text": [
            "The King is Dead, Long Live The King\n"
          ]
        }
      ],
      "source": [
        "dd=\"The King is Dead, Long Live The King\"\n",
        "print(dd)"
      ]
    },
    {
      "cell_type": "code",
      "execution_count": null,
      "metadata": {
        "colab": {
          "base_uri": "https://localhost:8080/"
        },
        "id": "k8A-Jjbuib_K",
        "outputId": "2a7748fb-1136-490b-eccf-d83866586ffc"
      },
      "outputs": [
        {
          "name": "stdout",
          "output_type": "stream",
          "text": [
            "T\n",
            "e K\n",
            "e King is Dead, Long Live The King\n"
          ]
        }
      ],
      "source": [
        "print(dd[0:1])\n",
        "print(dd[2:5])\n",
        "print(dd[2:])"
      ]
    },
    {
      "cell_type": "code",
      "execution_count": null,
      "metadata": {
        "colab": {
          "base_uri": "https://localhost:8080/"
        },
        "id": "FZfMAdW_KNld",
        "outputId": "4715476f-d363-49a8-ad88-b69b7934da78"
      },
      "outputs": [
        {
          "name": "stdout",
          "output_type": "stream",
          "text": [
            "[[1 2 3]\n",
            " [4 5 6]]\n"
          ]
        }
      ],
      "source": [
        "arr = np.array([[1,2,3],[4,5,6]])\n",
        "print(arr)"
      ]
    },
    {
      "cell_type": "code",
      "execution_count": null,
      "metadata": {
        "colab": {
          "base_uri": "https://localhost:8080/"
        },
        "id": "WVg4xHTSMYVF",
        "outputId": "4943d200-e372-4d7e-ca79-72467ed5ed17"
      },
      "outputs": [
        {
          "name": "stdout",
          "output_type": "stream",
          "text": [
            "[4 5 6]\n",
            "2\n"
          ]
        }
      ],
      "source": [
        "print(arr[1])\n",
        "print(len(arr))"
      ]
    },
    {
      "cell_type": "code",
      "execution_count": null,
      "metadata": {
        "colab": {
          "base_uri": "https://localhost:8080/"
        },
        "id": "4Rpy44wu5ubj",
        "outputId": "1fac29f2-cd44-4fd6-9e7a-2cdea38d36e0"
      },
      "outputs": [
        {
          "name": "stdout",
          "output_type": "stream",
          "text": [
            "[1 2 3]\n"
          ]
        }
      ],
      "source": [
        "import numpy as np\n",
        "my_list = [1,2,3]\n",
        "arr= np.array(my_list)\n",
        "print(arr)\n"
      ]
    },
    {
      "cell_type": "code",
      "execution_count": null,
      "metadata": {
        "colab": {
          "base_uri": "https://localhost:8080/"
        },
        "id": "4TLTH0wt9Bm4",
        "outputId": "3774400c-7523-49ca-a53d-c9fc02087681"
      },
      "outputs": [
        {
          "name": "stdout",
          "output_type": "stream",
          "text": [
            "Sum of the array is  34\n"
          ]
        }
      ],
      "source": [
        "def _sum(arr):\n",
        "    sum = 0\n",
        "    for i in arr:\n",
        "        sum = sum + i\n",
        "    return(sum)\n",
        "arr = []\n",
        "arr = [12, 3, 4, 15]\n",
        "n = len(arr) \n",
        "ans = _sum(arr)\n",
        "print('Sum of the array is ', ans)"
      ]
    },
    {
      "cell_type": "code",
      "execution_count": null,
      "metadata": {
        "colab": {
          "base_uri": "https://localhost:8080/"
        },
        "id": "WN8kn3fgGk-4",
        "outputId": "5d37184e-b2b0-4c96-9d29-ca5588bbaefc"
      },
      "outputs": [
        {
          "name": "stdout",
          "output_type": "stream",
          "text": [
            "Mean is: 12.461538461538462\n"
          ]
        }
      ],
      "source": [
        "n_num = [2,1,9,1,2,22,1,1,4,55,6,2,56]\n",
        "n = len(n_num)\n",
        "  \n",
        "get_sum = sum(n_num)\n",
        "mean = get_sum / n\n",
        "  \n",
        "print(\"Mean is: \" + str(mean))"
      ]
    },
    {
      "cell_type": "code",
      "execution_count": null,
      "metadata": {
        "colab": {
          "base_uri": "https://localhost:8080/"
        },
        "id": "ASwh-4_NIjkC",
        "outputId": "2a400f2d-12a6-494a-e39b-8cd698dda77c"
      },
      "outputs": [
        {
          "name": "stdout",
          "output_type": "stream",
          "text": [
            "Median is: 1\n"
          ]
        }
      ],
      "source": [
        "if n % 2 == 0:\n",
        "    median1 = n_num[n//2]\n",
        "    median2 = n_num[n//2 - 1]\n",
        "    median = (median1 + median2)/2\n",
        "else:\n",
        "    median = n_num[n//2]\n",
        "print(\"Median is: \" + str(median))"
      ]
    },
    {
      "cell_type": "code",
      "execution_count": null,
      "metadata": {
        "id": "jcPvehTKIm9I"
      },
      "outputs": [],
      "source": [
        "max = arr[0];    \n",
        "     \n",
        "#Loop through the array    \n",
        "for i in range(0, len(arr)):    \n",
        "    #Compare elements of array with max    \n",
        "   if(arr[i] > max):    \n",
        "       max = arr[i];    \n",
        "           \n",
        "print(\"Largest element present in given array: \" + str(max));   "
      ]
    }
  ],
  "metadata": {
    "colab": {
      "collapsed_sections": [],
      "provenance": []
    },
    "kernelspec": {
      "display_name": "Python 3",
      "language": "python",
      "name": "python3"
    },
    "language_info": {
      "codemirror_mode": {
        "name": "ipython",
        "version": 3
      },
      "file_extension": ".py",
      "mimetype": "text/x-python",
      "name": "python",
      "nbconvert_exporter": "python",
      "pygments_lexer": "ipython3",
      "version": "3.10.7"
    },
    "vscode": {
      "interpreter": {
        "hash": "a9244be119a4e18a6ac9c748e1334ce1fc2d214cac6a59425569b7d76d982513"
      }
    }
  },
  "nbformat": 4,
  "nbformat_minor": 0
}
