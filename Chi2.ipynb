{
  "nbformat": 4,
  "nbformat_minor": 0,
  "metadata": {
    "colab": {
      "provenance": []
    },
    "kernelspec": {
      "name": "python3",
      "display_name": "Python 3"
    },
    "language_info": {
      "name": "python"
    }
  },
  "cells": [
    {
      "cell_type": "code",
      "execution_count": 1,
      "metadata": {
        "id": "3BPSwF2_Uh_R"
      },
      "outputs": [],
      "source": [
        "import pandas as pd\n",
        "from scipy.stats import chi2_contingency"
      ]
    },
    {
      "cell_type": "code",
      "source": [
        "df = pd.read_csv('/content/youtube.csv')\n",
        "df.head()"
      ],
      "metadata": {
        "colab": {
          "base_uri": "https://localhost:8080/",
          "height": 424
        },
        "id": "W94tUWVmWuUB",
        "outputId": "569e6683-6937-4f09-9cf2-064870307978"
      },
      "execution_count": 16,
      "outputs": [
        {
          "output_type": "execute_result",
          "data": {
            "text/plain": [
              "   Rank                     Channel Channel Created On Country   Channel Type  \\\n",
              "0     1                    T-Series         2006-03-13   India          Music   \n",
              "1     2  Cocomelon - Nursery Rhymes         2006-01-09      US      Education   \n",
              "2     3                   SET India         2006-09-20   India  Entertainment   \n",
              "3     4                   PewDiePie         2010-04-29   Japan          Games   \n",
              "4     5                     MrBeast         2012-02-20      US  Entertainment   \n",
              "\n",
              "   Number of Subscribers(In Millions)  \\\n",
              "0                               226.0   \n",
              "1                               144.0   \n",
              "2                               144.0   \n",
              "3                               111.0   \n",
              "4                               105.0   \n",
              "\n",
              "   Total Video Uploads(Till End Of The Week)  \\\n",
              "0                                      17577   \n",
              "1                                        804   \n",
              "2                                      95983   \n",
              "3                                       4509   \n",
              "4                                        729   \n",
              "\n",
              "   Total Views(Till End Of The Week)  \\\n",
              "0                       204000514162   \n",
              "1                       140688579075   \n",
              "2                       130948644719   \n",
              "3                        28548079395   \n",
              "4                        17563810806   \n",
              "\n",
              "  Estimated Earnings in $(As on 03rd Oct 2022)  \\\n",
              "0                                          0-0   \n",
              "1                                 21.5K-343.8K   \n",
              "2                                 18.9K-301.8K   \n",
              "3                                     246-3.9K   \n",
              "4                                   3.2K-50.5K   \n",
              "\n",
              "  Estimated Earnings in $(As on 04th Oct 2022)  \\\n",
              "0                                 36.5K-583.8K   \n",
              "1                                 21.6K-344.9K   \n",
              "2                                          0-0   \n",
              "3                                          0-0   \n",
              "4                                   5.5K-88.1K   \n",
              "\n",
              "  Estimated Earnings in $(As on 05th Oct 2022)  \\\n",
              "0                                   25K-399.3K   \n",
              "1                                 10.5K-168.8K   \n",
              "2                                 14.6K-234.2K   \n",
              "3                                       374-6K   \n",
              "4                                          0-0   \n",
              "\n",
              "  Estimated Earnings in $(As on 06th Oct 2022)  \\\n",
              "0                                 50.2K-803.1K   \n",
              "1                                   36K-576.4K   \n",
              "2                                 36.7K-587.9K   \n",
              "3                                     410-6.6K   \n",
              "4                                   4.6K-73.6K   \n",
              "\n",
              "  Estimated Earnings in $(As on 07th Oct 2022)  \\\n",
              "0                                 21.8K-348.3K   \n",
              "1                                 20.7K-331.3K   \n",
              "2                                 17.8K-285.2K   \n",
              "3                                       248-4K   \n",
              "4                                   2.1K-34.1K   \n",
              "\n",
              "  Estimated Earnings in $(As on 08th Oct 2022)  \\\n",
              "0                                 23.3K-373.5K   \n",
              "1                                   10.8K-173K   \n",
              "2                                          0-0   \n",
              "3                                       374-6K   \n",
              "4                                   2.8K-45.2K   \n",
              "\n",
              "  Estimated Earnings in $(As on 09th Oct 2022)  \n",
              "0                                 21.9K-350.1K  \n",
              "1                                 28.4K-454.2K  \n",
              "2                                 20.4K-325.8K  \n",
              "3                                     424-6.8K  \n",
              "4                                   2.6K-42.3K  "
            ],
            "text/html": [
              "\n",
              "  <div id=\"df-77d83c80-17f5-4e75-9df6-93f631b08a3c\">\n",
              "    <div class=\"colab-df-container\">\n",
              "      <div>\n",
              "<style scoped>\n",
              "    .dataframe tbody tr th:only-of-type {\n",
              "        vertical-align: middle;\n",
              "    }\n",
              "\n",
              "    .dataframe tbody tr th {\n",
              "        vertical-align: top;\n",
              "    }\n",
              "\n",
              "    .dataframe thead th {\n",
              "        text-align: right;\n",
              "    }\n",
              "</style>\n",
              "<table border=\"1\" class=\"dataframe\">\n",
              "  <thead>\n",
              "    <tr style=\"text-align: right;\">\n",
              "      <th></th>\n",
              "      <th>Rank</th>\n",
              "      <th>Channel</th>\n",
              "      <th>Channel Created On</th>\n",
              "      <th>Country</th>\n",
              "      <th>Channel Type</th>\n",
              "      <th>Number of Subscribers(In Millions)</th>\n",
              "      <th>Total Video Uploads(Till End Of The Week)</th>\n",
              "      <th>Total Views(Till End Of The Week)</th>\n",
              "      <th>Estimated Earnings in $(As on 03rd Oct 2022)</th>\n",
              "      <th>Estimated Earnings in $(As on 04th Oct 2022)</th>\n",
              "      <th>Estimated Earnings in $(As on 05th Oct 2022)</th>\n",
              "      <th>Estimated Earnings in $(As on 06th Oct 2022)</th>\n",
              "      <th>Estimated Earnings in $(As on 07th Oct 2022)</th>\n",
              "      <th>Estimated Earnings in $(As on 08th Oct 2022)</th>\n",
              "      <th>Estimated Earnings in $(As on 09th Oct 2022)</th>\n",
              "    </tr>\n",
              "  </thead>\n",
              "  <tbody>\n",
              "    <tr>\n",
              "      <th>0</th>\n",
              "      <td>1</td>\n",
              "      <td>T-Series</td>\n",
              "      <td>2006-03-13</td>\n",
              "      <td>India</td>\n",
              "      <td>Music</td>\n",
              "      <td>226.0</td>\n",
              "      <td>17577</td>\n",
              "      <td>204000514162</td>\n",
              "      <td>0-0</td>\n",
              "      <td>36.5K-583.8K</td>\n",
              "      <td>25K-399.3K</td>\n",
              "      <td>50.2K-803.1K</td>\n",
              "      <td>21.8K-348.3K</td>\n",
              "      <td>23.3K-373.5K</td>\n",
              "      <td>21.9K-350.1K</td>\n",
              "    </tr>\n",
              "    <tr>\n",
              "      <th>1</th>\n",
              "      <td>2</td>\n",
              "      <td>Cocomelon - Nursery Rhymes</td>\n",
              "      <td>2006-01-09</td>\n",
              "      <td>US</td>\n",
              "      <td>Education</td>\n",
              "      <td>144.0</td>\n",
              "      <td>804</td>\n",
              "      <td>140688579075</td>\n",
              "      <td>21.5K-343.8K</td>\n",
              "      <td>21.6K-344.9K</td>\n",
              "      <td>10.5K-168.8K</td>\n",
              "      <td>36K-576.4K</td>\n",
              "      <td>20.7K-331.3K</td>\n",
              "      <td>10.8K-173K</td>\n",
              "      <td>28.4K-454.2K</td>\n",
              "    </tr>\n",
              "    <tr>\n",
              "      <th>2</th>\n",
              "      <td>3</td>\n",
              "      <td>SET India</td>\n",
              "      <td>2006-09-20</td>\n",
              "      <td>India</td>\n",
              "      <td>Entertainment</td>\n",
              "      <td>144.0</td>\n",
              "      <td>95983</td>\n",
              "      <td>130948644719</td>\n",
              "      <td>18.9K-301.8K</td>\n",
              "      <td>0-0</td>\n",
              "      <td>14.6K-234.2K</td>\n",
              "      <td>36.7K-587.9K</td>\n",
              "      <td>17.8K-285.2K</td>\n",
              "      <td>0-0</td>\n",
              "      <td>20.4K-325.8K</td>\n",
              "    </tr>\n",
              "    <tr>\n",
              "      <th>3</th>\n",
              "      <td>4</td>\n",
              "      <td>PewDiePie</td>\n",
              "      <td>2010-04-29</td>\n",
              "      <td>Japan</td>\n",
              "      <td>Games</td>\n",
              "      <td>111.0</td>\n",
              "      <td>4509</td>\n",
              "      <td>28548079395</td>\n",
              "      <td>246-3.9K</td>\n",
              "      <td>0-0</td>\n",
              "      <td>374-6K</td>\n",
              "      <td>410-6.6K</td>\n",
              "      <td>248-4K</td>\n",
              "      <td>374-6K</td>\n",
              "      <td>424-6.8K</td>\n",
              "    </tr>\n",
              "    <tr>\n",
              "      <th>4</th>\n",
              "      <td>5</td>\n",
              "      <td>MrBeast</td>\n",
              "      <td>2012-02-20</td>\n",
              "      <td>US</td>\n",
              "      <td>Entertainment</td>\n",
              "      <td>105.0</td>\n",
              "      <td>729</td>\n",
              "      <td>17563810806</td>\n",
              "      <td>3.2K-50.5K</td>\n",
              "      <td>5.5K-88.1K</td>\n",
              "      <td>0-0</td>\n",
              "      <td>4.6K-73.6K</td>\n",
              "      <td>2.1K-34.1K</td>\n",
              "      <td>2.8K-45.2K</td>\n",
              "      <td>2.6K-42.3K</td>\n",
              "    </tr>\n",
              "  </tbody>\n",
              "</table>\n",
              "</div>\n",
              "      <button class=\"colab-df-convert\" onclick=\"convertToInteractive('df-77d83c80-17f5-4e75-9df6-93f631b08a3c')\"\n",
              "              title=\"Convert this dataframe to an interactive table.\"\n",
              "              style=\"display:none;\">\n",
              "        \n",
              "  <svg xmlns=\"http://www.w3.org/2000/svg\" height=\"24px\"viewBox=\"0 0 24 24\"\n",
              "       width=\"24px\">\n",
              "    <path d=\"M0 0h24v24H0V0z\" fill=\"none\"/>\n",
              "    <path d=\"M18.56 5.44l.94 2.06.94-2.06 2.06-.94-2.06-.94-.94-2.06-.94 2.06-2.06.94zm-11 1L8.5 8.5l.94-2.06 2.06-.94-2.06-.94L8.5 2.5l-.94 2.06-2.06.94zm10 10l.94 2.06.94-2.06 2.06-.94-2.06-.94-.94-2.06-.94 2.06-2.06.94z\"/><path d=\"M17.41 7.96l-1.37-1.37c-.4-.4-.92-.59-1.43-.59-.52 0-1.04.2-1.43.59L10.3 9.45l-7.72 7.72c-.78.78-.78 2.05 0 2.83L4 21.41c.39.39.9.59 1.41.59.51 0 1.02-.2 1.41-.59l7.78-7.78 2.81-2.81c.8-.78.8-2.07 0-2.86zM5.41 20L4 18.59l7.72-7.72 1.47 1.35L5.41 20z\"/>\n",
              "  </svg>\n",
              "      </button>\n",
              "      \n",
              "  <style>\n",
              "    .colab-df-container {\n",
              "      display:flex;\n",
              "      flex-wrap:wrap;\n",
              "      gap: 12px;\n",
              "    }\n",
              "\n",
              "    .colab-df-convert {\n",
              "      background-color: #E8F0FE;\n",
              "      border: none;\n",
              "      border-radius: 50%;\n",
              "      cursor: pointer;\n",
              "      display: none;\n",
              "      fill: #1967D2;\n",
              "      height: 32px;\n",
              "      padding: 0 0 0 0;\n",
              "      width: 32px;\n",
              "    }\n",
              "\n",
              "    .colab-df-convert:hover {\n",
              "      background-color: #E2EBFA;\n",
              "      box-shadow: 0px 1px 2px rgba(60, 64, 67, 0.3), 0px 1px 3px 1px rgba(60, 64, 67, 0.15);\n",
              "      fill: #174EA6;\n",
              "    }\n",
              "\n",
              "    [theme=dark] .colab-df-convert {\n",
              "      background-color: #3B4455;\n",
              "      fill: #D2E3FC;\n",
              "    }\n",
              "\n",
              "    [theme=dark] .colab-df-convert:hover {\n",
              "      background-color: #434B5C;\n",
              "      box-shadow: 0px 1px 3px 1px rgba(0, 0, 0, 0.15);\n",
              "      filter: drop-shadow(0px 1px 2px rgba(0, 0, 0, 0.3));\n",
              "      fill: #FFFFFF;\n",
              "    }\n",
              "  </style>\n",
              "\n",
              "      <script>\n",
              "        const buttonEl =\n",
              "          document.querySelector('#df-77d83c80-17f5-4e75-9df6-93f631b08a3c button.colab-df-convert');\n",
              "        buttonEl.style.display =\n",
              "          google.colab.kernel.accessAllowed ? 'block' : 'none';\n",
              "\n",
              "        async function convertToInteractive(key) {\n",
              "          const element = document.querySelector('#df-77d83c80-17f5-4e75-9df6-93f631b08a3c');\n",
              "          const dataTable =\n",
              "            await google.colab.kernel.invokeFunction('convertToInteractive',\n",
              "                                                     [key], {});\n",
              "          if (!dataTable) return;\n",
              "\n",
              "          const docLinkHtml = 'Like what you see? Visit the ' +\n",
              "            '<a target=\"_blank\" href=https://colab.research.google.com/notebooks/data_table.ipynb>data table notebook</a>'\n",
              "            + ' to learn more about interactive tables.';\n",
              "          element.innerHTML = '';\n",
              "          dataTable['output_type'] = 'display_data';\n",
              "          await google.colab.output.renderOutput(dataTable, element);\n",
              "          const docLink = document.createElement('div');\n",
              "          docLink.innerHTML = docLinkHtml;\n",
              "          element.appendChild(docLink);\n",
              "        }\n",
              "      </script>\n",
              "    </div>\n",
              "  </div>\n",
              "  "
            ]
          },
          "metadata": {},
          "execution_count": 16
        }
      ]
    },
    {
      "cell_type": "code",
      "source": [
        "df['Country'].unique()"
      ],
      "metadata": {
        "colab": {
          "base_uri": "https://localhost:8080/"
        },
        "id": "FN6EYl38Z_wn",
        "outputId": "7f7f61af-fd40-42a1-8d56-57b08c8bea8d"
      },
      "execution_count": 23,
      "outputs": [
        {
          "output_type": "execute_result",
          "data": {
            "text/plain": [
              "array(['India', 'US', 'Japan', 'South Korea', 'Canada', 'Brazil',\n",
              "       'Argentina', 'UK', 'Chile', 'Mexico', 'El Salvador', 'Puerto Rico'],\n",
              "      dtype=object)"
            ]
          },
          "metadata": {},
          "execution_count": 23
        }
      ]
    },
    {
      "cell_type": "code",
      "source": [
        "country_grp = df.groupby(['Country'])"
      ],
      "metadata": {
        "id": "D_c7mcqzW_qu"
      },
      "execution_count": 17,
      "outputs": []
    },
    {
      "cell_type": "code",
      "source": [
        "country_grp['Channel Type'].value_counts().loc['India']"
      ],
      "metadata": {
        "colab": {
          "base_uri": "https://localhost:8080/"
        },
        "id": "MOjJPtiFXnm-",
        "outputId": "9e141931-ab5c-4b42-8acc-9b6b350fa84c"
      },
      "execution_count": 18,
      "outputs": [
        {
          "output_type": "execute_result",
          "data": {
            "text/plain": [
              "Channel Type\n",
              "Music            8\n",
              "Entertainment    4\n",
              "Education        2\n",
              "Film             1\n",
              "News             1\n",
              "Name: Channel Type, dtype: int64"
            ]
          },
          "metadata": {},
          "execution_count": 18
        }
      ]
    },
    {
      "cell_type": "code",
      "source": [
        "country_grp['Channel Type'].value_counts().loc['US']"
      ],
      "metadata": {
        "colab": {
          "base_uri": "https://localhost:8080/"
        },
        "id": "nXtR9I9XZ2u9",
        "outputId": "b7784005-26e3-4ecb-b62a-9ba15f0945c0"
      },
      "execution_count": 21,
      "outputs": [
        {
          "output_type": "execute_result",
          "data": {
            "text/plain": [
              "Channel Type\n",
              "Music            7\n",
              "Entertainment    6\n",
              "Education        2\n",
              "Sports           2\n",
              "Film             1\n",
              "Howto            1\n",
              "Name: Channel Type, dtype: int64"
            ]
          },
          "metadata": {},
          "execution_count": 21
        }
      ]
    },
    {
      "cell_type": "code",
      "source": [
        "country_grp['Channel Type'].value_counts().loc['Brazil']"
      ],
      "metadata": {
        "colab": {
          "base_uri": "https://localhost:8080/"
        },
        "id": "3a0ExguAZ8ud",
        "outputId": "933f6d6f-b060-4bad-83a9-adbba112c57b"
      },
      "execution_count": 33,
      "outputs": [
        {
          "output_type": "execute_result",
          "data": {
            "text/plain": [
              "Channel Type\n",
              "Entertainment    2\n",
              "Comedy           1\n",
              "Music            1\n",
              "Name: Channel Type, dtype: int64"
            ]
          },
          "metadata": {},
          "execution_count": 33
        }
      ]
    },
    {
      "cell_type": "markdown",
      "source": [
        "We can select the above 3 countries and the categories as Music and Entertainment. The null hypothesis is that there is no relation between the country and the corresponding video categories. The alternative hypothesis can be that there is a relation or that they are not independent."
      ],
      "metadata": {
        "id": "k44mSA4WaZBW"
      }
    },
    {
      "cell_type": "code",
      "source": [
        "data = [[8, 4], [7, 6], [1, 2]]"
      ],
      "metadata": {
        "id": "AgTulJmIaYPR"
      },
      "execution_count": 34,
      "outputs": []
    },
    {
      "cell_type": "code",
      "source": [
        "test_statistic, p_value, dof, expected_freq = chi2_contingency(data)"
      ],
      "metadata": {
        "id": "54eZu8rHbIPH"
      },
      "execution_count": 37,
      "outputs": []
    },
    {
      "cell_type": "code",
      "source": [
        "print(f'Test Statistic - {test_statistic}\\nP-Value - {p_value}\\nDegrees of Freedom - {dof}')"
      ],
      "metadata": {
        "colab": {
          "base_uri": "https://localhost:8080/"
        },
        "id": "c1QzTzcZbcI-",
        "outputId": "dd84e018-0181-44ca-8263-9e880ef80538"
      },
      "execution_count": 38,
      "outputs": [
        {
          "output_type": "stream",
          "name": "stdout",
          "text": [
            "Test Statistic - 1.1965811965811968\n",
            "P-Value - 0.5497505779286571\n",
            "Degrees of Freedom - 2\n"
          ]
        }
      ]
    },
    {
      "cell_type": "code",
      "source": [
        "alpha = 0.05\n",
        "if p_value <= alpha:\n",
        "    print('Reject null hypothesis')\n",
        "else:\n",
        "    print('Fail to reject null hypothesis')"
      ],
      "metadata": {
        "colab": {
          "base_uri": "https://localhost:8080/"
        },
        "id": "_KVmjIiwboTB",
        "outputId": "4563c529-113b-4b1f-cb4d-367849deb97e"
      },
      "execution_count": 39,
      "outputs": [
        {
          "output_type": "stream",
          "name": "stdout",
          "text": [
            "Fail to reject null hypothesis\n"
          ]
        }
      ]
    },
    {
      "cell_type": "markdown",
      "source": [
        "Thus, we can conclude that the category of videos uploaded by most subscribed YouTubers in a country is independent of the country in which they reside."
      ],
      "metadata": {
        "id": "vJtf_v5OcqIp"
      }
    }
  ]
}